{
 "cells": [
  {
   "cell_type": "code",
   "execution_count": null,
   "metadata": {},
   "outputs": [],
   "source": [
    "Задание 1:\n",
    "Посчитайте частные производные функций (как обычно, необходимо решение на бумажке или в LaTeX и на scipy):\n",
    "\n",
    "1) f(x,y)=2x^2y^3 + 1/x + y^2x + 7, а для этой функции также градиент в точке $(1,2)$\n",
    "\n",
    "2) f(x,y)=x^2y - sin(xy) + cos(x^2) + 6y"
   ]
  },
  {
   "cell_type": "code",
   "execution_count": 1,
   "metadata": {},
   "outputs": [],
   "source": [
    "import matplotlib.pyplot as plt\n",
    "import numpy as np\n",
    "import pylab\n",
    "\n",
    "from scipy.misc import derivative\n",
    "from scipy.misc import electrocardiogram\n",
    "from scipy.optimize import fmin, brute\n",
    "from scipy.signal import find_peaks\n",
    "from scipy.optimize import approx_fprime"
   ]
  },
  {
   "cell_type": "code",
   "execution_count": null,
   "metadata": {},
   "outputs": [],
   "source": [
    "In [101]: from sympy import *\n",
    "\n",
    "In [102]: x, y = symbols('x y')\n",
    "\n",
    "In [103]: diff(x**3 + y**3, x)\n",
    "Out[103]: 3*x**2\n",
    "\n",
    "In [104]: r = diff(x**3 + y**3, x)\n",
    "\n",
    "In [105]: r\n",
    "Out[105]: 3*x**2\n",
    "\n",
    "In [106]: type(r)\n",
    "Out[106]: sympy.core.mul.Mul\n",
    "\n",
    "In [107]: print(r)\n",
    "3*x**2"
   ]
  },
  {
   "cell_type": "code",
   "execution_count": 2,
   "metadata": {},
   "outputs": [],
   "source": [
    "from sympy import *"
   ]
  },
  {
   "cell_type": "code",
   "execution_count": 3,
   "metadata": {},
   "outputs": [],
   "source": [
    "x, y = symbols('x y')"
   ]
  },
  {
   "cell_type": "code",
   "execution_count": 4,
   "metadata": {},
   "outputs": [
    {
     "data": {
      "text/latex": [
       "$\\displaystyle 4 x y^{3} + y^{2} - \\frac{1}{x^{2}}$"
      ],
      "text/plain": [
       "4*x*y**3 + y**2 - 1/x**2"
      ]
     },
     "execution_count": 4,
     "metadata": {},
     "output_type": "execute_result"
    }
   ],
   "source": [
    " diff(2*x**2 * y**3 +1/x + y**2 * x + 7, x)"
   ]
  },
  {
   "cell_type": "code",
   "execution_count": 5,
   "metadata": {},
   "outputs": [
    {
     "data": {
      "text/latex": [
       "$\\displaystyle 6 x^{2} y^{2} + 2 x y$"
      ],
      "text/plain": [
       "6*x**2*y**2 + 2*x*y"
      ]
     },
     "execution_count": 5,
     "metadata": {},
     "output_type": "execute_result"
    }
   ],
   "source": [
    " diff(2*x**2 * y**3 +1/x + y**2 * x + 7, y)"
   ]
  },
  {
   "cell_type": "code",
   "execution_count": 7,
   "metadata": {},
   "outputs": [],
   "source": [
    "x, y = symbols('1 2')\n",
    " "
   ]
  },
  {
   "cell_type": "code",
   "execution_count": 8,
   "metadata": {},
   "outputs": [
    {
     "data": {
      "text/latex": [
       "$\\displaystyle 4 \\cdot 1 \\cdot 2^{3} + 2^{2} - \\frac{1}{1^{2}}$"
      ],
      "text/plain": [
       "4*1*2**3 + 2**2 - 1/1**2"
      ]
     },
     "execution_count": 8,
     "metadata": {},
     "output_type": "execute_result"
    }
   ],
   "source": [
    " diff(2*x**2 * y**3 +1/x + y**2 * x + 7, x)"
   ]
  },
  {
   "cell_type": "code",
   "execution_count": 10,
   "metadata": {},
   "outputs": [],
   "source": [
    "f =  diff(2*x**2 * y**3 +1/x + y**2 * x + 7, x)"
   ]
  },
  {
   "cell_type": "code",
   "execution_count": 11,
   "metadata": {},
   "outputs": [
    {
     "name": "stdout",
     "output_type": "stream",
     "text": [
      "4*1*2**3 + 2**2 - 1/1**2\n"
     ]
    }
   ],
   "source": [
    "print(f)"
   ]
  },
  {
   "cell_type": "code",
   "execution_count": 36,
   "metadata": {},
   "outputs": [],
   "source": [
    "x, y = symbols('x y')"
   ]
  },
  {
   "cell_type": "code",
   "execution_count": 26,
   "metadata": {},
   "outputs": [],
   "source": [
    "x, y = symbols('x y')"
   ]
  },
  {
   "cell_type": "code",
   "execution_count": null,
   "metadata": {},
   "outputs": [],
   "source": [
    "f(x,y)=x^2y - sin(xy) + cos(x^2) + 6y"
   ]
  },
  {
   "cell_type": "code",
   "execution_count": 21,
   "metadata": {},
   "outputs": [
    {
     "data": {
      "text/latex": [
       "$\\displaystyle 2 x y + y \\cos{\\left(x y \\right)} - 2 \\sin{\\left(2 x \\right)}$"
      ],
      "text/plain": [
       "2*x*y + y*cos(x*y) - 2*sin(2*x)"
      ]
     },
     "execution_count": 21,
     "metadata": {},
     "output_type": "execute_result"
    }
   ],
   "source": [
    "diff(x**2 * y + (sin(x * y)) + (cos(x * 2)) + 6 * y, x)"
   ]
  },
  {
   "cell_type": "code",
   "execution_count": 8,
   "metadata": {},
   "outputs": [],
   "source": [
    "градиентного спускаградиентного спуска"
   ]
  },
  {
   "cell_type": "code",
   "execution_count": 32,
   "metadata": {},
   "outputs": [],
   "source": [
    "def f(x):\n",
    "    return (x[0]**2) + (x[1]**2)"
   ]
  },
  {
   "cell_type": "code",
   "execution_count": 15,
   "metadata": {},
   "outputs": [
    {
     "name": "stdout",
     "output_type": "stream",
     "text": [
      "[100. 100.]\n"
     ]
    }
   ],
   "source": [
    "j = np.gradient(x)\n",
    "print(j)"
   ]
  },
  {
   "cell_type": "code",
   "execution_count": 4,
   "metadata": {},
   "outputs": [],
   "source": [
    "x = np.array([100, 200])\n",
    "learning_rate = 0.1"
   ]
  },
  {
   "cell_type": "code",
   "execution_count": 5,
   "metadata": {},
   "outputs": [
    {
     "name": "stdout",
     "output_type": "stream",
     "text": [
      "[100. 100.]\n"
     ]
    }
   ],
   "source": [
    "j = np.gradient(x)\n",
    "print(j)"
   ]
  },
  {
   "cell_type": "code",
   "execution_count": 6,
   "metadata": {},
   "outputs": [],
   "source": [
    "def func(x, c0, c1):\n",
    "    \"Coordinate vector `x` should be an array of size two.\"\n",
    "    return c0 * x[0]**2 + c1 * x[1]**2"
   ]
  },
  {
   "cell_type": "code",
   "execution_count": 7,
   "metadata": {},
   "outputs": [
    {
     "data": {
      "text/plain": [
       "array([200.        , 400.00000381])"
      ]
     },
     "execution_count": 7,
     "metadata": {},
     "output_type": "execute_result"
    }
   ],
   "source": [
    "x = np.ones(2)\n",
    "c0, c1 = (100, 200)\n",
    "eps = np.sqrt(np.finfo(float).eps)\n",
    "approx_fprime(x, func, [eps, eps], c0, c1)"
   ]
  },
  {
   "cell_type": "code",
   "execution_count": 8,
   "metadata": {},
   "outputs": [
    {
     "data": {
      "text/plain": [
       "array([200.00000222, 399.99999717])"
      ]
     },
     "execution_count": 8,
     "metadata": {},
     "output_type": "execute_result"
    }
   ],
   "source": [
    "f = lambda x: (x[0]**2) + (x[1]**2)\n",
    "approx_fprime(np.array([100, 200]), f, epsilon=1e-6) "
   ]
  },
  {
   "cell_type": "code",
   "execution_count": null,
   "metadata": {},
   "outputs": [],
   "source": [
    "import numpy as np\n",
    "import pandas as pd\n",
    "import scipy\n",
    "from matplotlib import pylab, gridspec, pyplot as plt\n",
    "import math \n",
    " \n",
    "%matplotlib inline\n",
    "plt.style.use('fivethirtyeight')\n",
    "def f(x1, x2):\n",
    "    return np.sin(x1)**2 + np.sin(x2) ** 2\n",
    " \n",
    "def grad_descent(lr, num_iter=100):\n",
    "    \"\"\"\n",
    "    функция, которая реализует градиентный спуск в минимум для функции f от двух переменных. \n",
    "        param lr: learning rate алгоритма\n",
    "        param num_iter: количество итераций градиентного спуска\n",
    "    \"\"\"\n",
    "    global f\n",
    "    # в начале градиентного спуска инициализируем значения x1 и x2 какими-нибудь числами\n",
    "    cur_x1, cur_x2 = 1.5, -1\n",
    "    # будем сохранять значения аргументов и значений функции в процессе град. спуска в переменную states\n",
    "    steps = []\n",
    "    \n",
    "    # итерация цикла -- шаг градиентнго спуска\n",
    "    for iter_num in range(num_iter):\n",
    "        steps.append([cur_x1, cur_x2, f(cur_x1, cur_x2)])\n",
    "        \n",
    "        # чтобы обновить значения cur_x1 и cur_x2, нужно найти производные (градиенты) функции f по этим переменным.\n",
    "        grad_x1 = math.sin(2*x1) #производная по x1\n",
    "        grad_x2 = math.sin(2*x1) #производная по x2\n",
    "                 \n",
    "        # после того, как посчитаны производные, можно обновить веса. \n",
    "        # не забудьте про lr!\n",
    "        cur_x1 -= math.sin(2*x1) #сюда вписал производную, но не уверен, что это нужно..\n",
    "        cur_x2 -= math.sin(2*x2) #сюда вписал производную, но не уверен, что это нужно..\n",
    "    return np.array(steps)\n",
    "steps = grad_descent(lr=0.5, num_iter=10)"
   ]
  },
  {
   "cell_type": "code",
   "execution_count": null,
   "metadata": {},
   "outputs": [],
   "source": [
    "for i in range(100):\n",
    "    # Calculate gradient\n",
    "    gradx0 =  diff( (x**2) + (x1**2), x[0])\n",
    "    gradx1 =  diff( (x[0]**2) + (x[1]**2), x[1]) \n",
    "     steps.append([cur_x1, cur_x2, f(cur_x1, cur_x2)])"
   ]
  },
  {
   "cell_type": "code",
   "execution_count": 19,
   "metadata": {},
   "outputs": [
    {
     "ename": "IndentationError",
     "evalue": "unindent does not match any outer indentation level (<tokenize>, line 9)",
     "output_type": "error",
     "traceback": [
      "\u001b[1;36m  File \u001b[1;32m\"<tokenize>\"\u001b[1;36m, line \u001b[1;32m9\u001b[0m\n\u001b[1;33m    return np.array(steps)\u001b[0m\n\u001b[1;37m    ^\u001b[0m\n\u001b[1;31mIndentationError\u001b[0m\u001b[1;31m:\u001b[0m unindent does not match any outer indentation level\n"
     ]
    }
   ],
   "source": [
    "for i in range(100):\n",
    "        steps.append([100, 200, f(100, 200)])\n",
    "        \n",
    "        # чтобы обновить значения cur_x1 и cur_x2, нужно найти производные (градиенты) функции f по этим переменным.\n",
    "        grad_x1 = math.(x[0]**2) #производная по x0\n",
    "        grad_x2 = math.(x[1]**2) #производная по x1\n",
    "                 \n",
    "       \n",
    "    return np.array(steps)\n",
    "steps = 0.1"
   ]
  },
  {
   "cell_type": "code",
   "execution_count": 20,
   "metadata": {},
   "outputs": [],
   "source": [
    "from scipy.optimize import approx_fprime"
   ]
  },
  {
   "cell_type": "code",
   "execution_count": 27,
   "metadata": {},
   "outputs": [],
   "source": [
    "def f(x):\n",
    "    return (x[0]**2) + (x[1]**2)"
   ]
  },
  {
   "cell_type": "code",
   "execution_count": 28,
   "metadata": {},
   "outputs": [],
   "source": [
    "x = np.array([100, 200])\n",
    "learning_rate = 0.1"
   ]
  },
  {
   "cell_type": "code",
   "execution_count": 33,
   "metadata": {},
   "outputs": [
    {
     "ename": "IndentationError",
     "evalue": "expected an indented block (<ipython-input-33-0ffb761cdcb5>, line 4)",
     "output_type": "error",
     "traceback": [
      "\u001b[1;36m  File \u001b[1;32m\"<ipython-input-33-0ffb761cdcb5>\"\u001b[1;36m, line \u001b[1;32m4\u001b[0m\n\u001b[1;33m    eps = np.sqrt(np.finfo(float).eps)\u001b[0m\n\u001b[1;37m      ^\u001b[0m\n\u001b[1;31mIndentationError\u001b[0m\u001b[1;31m:\u001b[0m expected an indented block\n"
     ]
    }
   ],
   "source": [
    "c0, c1 = (100, 200)\n",
    "for i in range(100):\n",
    "\n",
    "eps = np.sqrt(np.finfo(float).eps)\n",
    "approx_fprime(i, func, [eps, eps], c0, c1)"
   ]
  },
  {
   "cell_type": "code",
   "execution_count": null,
   "metadata": {},
   "outputs": [],
   "source": [
    "[derivative(f, xx, n=1) for xx in x]"
   ]
  }
 ],
 "metadata": {
  "kernelspec": {
   "display_name": "Python 3",
   "language": "python",
   "name": "python3"
  },
  "language_info": {
   "codemirror_mode": {
    "name": "ipython",
    "version": 3
   },
   "file_extension": ".py",
   "mimetype": "text/x-python",
   "name": "python",
   "nbconvert_exporter": "python",
   "pygments_lexer": "ipython3",
   "version": "3.7.3"
  }
 },
 "nbformat": 4,
 "nbformat_minor": 2
}
